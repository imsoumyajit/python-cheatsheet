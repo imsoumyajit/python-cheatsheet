{
 "cells": [
  {
   "cell_type": "markdown",
   "id": "7a94a920",
   "metadata": {},
   "source": [
    "# Python for Data Science"
   ]
  },
  {
   "cell_type": "code",
   "execution_count": 3,
   "id": "b105bf7c",
   "metadata": {},
   "outputs": [],
   "source": [
    "# Difference between a list and tuple\n",
    "my_list=[1,2,3,4,5,6.9,7.2,1,3,5]\n",
    "my_tuple=(1,2,3,4,5,6.9,7.2)\n",
    "set_variable={1,2,3,4,5,6.9,7.2}"
   ]
  },
  {
   "cell_type": "code",
   "execution_count": 21,
   "id": "d2ec207e",
   "metadata": {},
   "outputs": [],
   "source": [
    "# Simlarity\n",
    "# print(\"List value \")\n",
    "# my_list[5]\n",
    "# print(\"Tuple value \") \n",
    "# my_tuple[1]"
   ]
  },
  {
   "cell_type": "code",
   "execution_count": 26,
   "id": "a2e2f5a8",
   "metadata": {},
   "outputs": [],
   "source": [
    "# Diff\n",
    "# tuples are immutable - no modifications \n",
    "# my_tuple[2]=5\n",
    "# to modify it first convert it to a list "
   ]
  },
  {
   "cell_type": "code",
   "execution_count": 31,
   "id": "28839435",
   "metadata": {},
   "outputs": [],
   "source": [
    "# Set variables also are immutable \n",
    "# also, can't contain duplicate values\n",
    "# some_set={1,2,3,5,2,2.1}\n",
    "# some_set\n",
    "# hence useful to remove redundant values from a list or set "
   ]
  },
  {
   "cell_type": "code",
   "execution_count": 35,
   "id": "4a13cab7",
   "metadata": {},
   "outputs": [
    {
     "data": {
      "text/plain": [
       "[1, 2, 3, 4, 5, 6.9, 7.2]"
      ]
     },
     "execution_count": 35,
     "metadata": {},
     "output_type": "execute_result"
    }
   ],
   "source": [
    "# so we convert a list to set and then again back to a list to remove duplicate values\n",
    "list(set(my_list))"
   ]
  },
  {
   "cell_type": "code",
   "execution_count": 44,
   "id": "1a11e267",
   "metadata": {},
   "outputs": [],
   "source": [
    "# Dictionary \n",
    "# It creates keys and assign values to it \n",
    "person_variable={\n",
    "    'name':\"Momo\",\n",
    "    \"color\":\"Brown\",\n",
    "    'number':7\n",
    "}"
   ]
  },
  {
   "cell_type": "code",
   "execution_count": 45,
   "id": "fdb7a66a",
   "metadata": {},
   "outputs": [
    {
     "data": {
      "text/plain": [
       "'Momo'"
      ]
     },
     "execution_count": 45,
     "metadata": {},
     "output_type": "execute_result"
    }
   ],
   "source": [
    "# we parse through keys to get values\n",
    "person_variable['name']"
   ]
  },
  {
   "cell_type": "markdown",
   "id": "8f0a9e66",
   "metadata": {},
   "source": [
    "# Lists"
   ]
  },
  {
   "cell_type": "markdown",
   "id": "5037c82a",
   "metadata": {},
   "source": [
    "#### CRUD"
   ]
  },
  {
   "cell_type": "markdown",
   "id": "e2db5556",
   "metadata": {},
   "source": [
    "##### Create"
   ]
  },
  {
   "cell_type": "code",
   "execution_count": 47,
   "id": "f4190dda",
   "metadata": {},
   "outputs": [],
   "source": [
    "names=['Captain Marvel','Bruce Banner','Natasha Romanoff','Clint Bartan','Tony Stark','Thor','Steve Rogers']"
   ]
  },
  {
   "cell_type": "markdown",
   "id": "a7b24306",
   "metadata": {},
   "source": [
    "##### Read"
   ]
  },
  {
   "cell_type": "code",
   "execution_count": 53,
   "id": "063c39b1",
   "metadata": {},
   "outputs": [
    {
     "data": {
      "text/plain": [
       "'Captain Marvel'"
      ]
     },
     "execution_count": 53,
     "metadata": {},
     "output_type": "execute_result"
    }
   ],
   "source": [
    "# indexing \n",
    "\n",
    "names[0] #first element \n",
    "names[-1] #last element\n",
    "len(names) #len of elements"
   ]
  },
  {
   "cell_type": "markdown",
   "id": "bf133041",
   "metadata": {},
   "source": [
    "##### Update"
   ]
  },
  {
   "cell_type": "code",
   "execution_count": 60,
   "id": "57ebd4ee",
   "metadata": {},
   "outputs": [
    {
     "data": {
      "text/plain": [
       "['Captain Marvel',\n",
       " 'Bruce Banner',\n",
       " 'Natasha Romanoff',\n",
       " 'Clint Bartan',\n",
       " 'Tony Stark',\n",
       " 'Thor Odinson',\n",
       " 'Steve Rogers']"
      ]
     },
     "execution_count": 60,
     "metadata": {},
     "output_type": "execute_result"
    }
   ],
   "source": [
    "names[-2]='Thor Odinson'\n",
    "names\n"
   ]
  },
  {
   "cell_type": "code",
   "execution_count": 62,
   "id": "ef7b984f",
   "metadata": {},
   "outputs": [
    {
     "data": {
      "text/plain": [
       "['Captain Marvel',\n",
       " 'Bruce Banner',\n",
       " 'Natasha Romanoff',\n",
       " 'Clint Bartan',\n",
       " 'Tony Stark',\n",
       " 'Thor Odinson',\n",
       " 'Steve Rogers',\n",
       " 'Peter Parker']"
      ]
     },
     "execution_count": 62,
     "metadata": {},
     "output_type": "execute_result"
    }
   ],
   "source": [
    "# we forgot spidey\n",
    "names.append('Peter Parker')\n",
    "names"
   ]
  },
  {
   "cell_type": "code",
   "execution_count": 63,
   "id": "3df2d1ae",
   "metadata": {},
   "outputs": [
    {
     "data": {
      "text/plain": [
       "['Nick Fury',\n",
       " 'Captain Marvel',\n",
       " 'Bruce Banner',\n",
       " 'Natasha Romanoff',\n",
       " 'Clint Bartan',\n",
       " 'Tony Stark',\n",
       " 'Thor Odinson',\n",
       " 'Steve Rogers',\n",
       " 'Peter Parker']"
      ]
     },
     "execution_count": 63,
     "metadata": {},
     "output_type": "execute_result"
    }
   ],
   "source": [
    "names.insert(0,'Nick Fury')\n",
    "names"
   ]
  },
  {
   "cell_type": "markdown",
   "id": "d021bd29",
   "metadata": {},
   "source": [
    "##### Delete"
   ]
  },
  {
   "cell_type": "code",
   "execution_count": 65,
   "id": "a068b41e",
   "metadata": {},
   "outputs": [
    {
     "data": {
      "text/plain": [
       "['Nick Fury',\n",
       " 'Bruce Banner',\n",
       " 'Natasha Romanoff',\n",
       " 'Clint Bartan',\n",
       " 'Tony Stark',\n",
       " 'Thor Odinson',\n",
       " 'Steve Rogers',\n",
       " 'Peter Parker']"
      ]
     },
     "execution_count": 65,
     "metadata": {},
     "output_type": "execute_result"
    }
   ],
   "source": [
    "del names[1]\n",
    "names"
   ]
  },
  {
   "cell_type": "markdown",
   "id": "002343c9",
   "metadata": {},
   "source": [
    "### Dictionaries "
   ]
  },
  {
   "cell_type": "code",
   "execution_count": null,
   "id": "6b1d11e7",
   "metadata": {},
   "outputs": [],
   "source": [
    "# create"
   ]
  },
  {
   "cell_type": "code",
   "execution_count": 66,
   "id": "65a85e5c",
   "metadata": {},
   "outputs": [],
   "source": [
    "names={\n",
    "    \"name\":\"Somo\" , \n",
    "    \"age\": 21, \n",
    "    \"race\": \"Indian\",\n",
    "    \"color\": \"Brown\"\n",
    "}"
   ]
  },
  {
   "cell_type": "code",
   "execution_count": null,
   "id": "230273ba",
   "metadata": {},
   "outputs": [],
   "source": [
    "# read "
   ]
  },
  {
   "cell_type": "code",
   "execution_count": 67,
   "id": "e10a9d15",
   "metadata": {},
   "outputs": [
    {
     "data": {
      "text/plain": [
       "{'name': 'Somo', 'age': 21, 'race': 'Indian', 'color': 'Brown'}"
      ]
     },
     "execution_count": 67,
     "metadata": {},
     "output_type": "execute_result"
    }
   ],
   "source": [
    "names"
   ]
  },
  {
   "cell_type": "code",
   "execution_count": 70,
   "id": "e008a723",
   "metadata": {},
   "outputs": [
    {
     "data": {
      "text/plain": [
       "'Somo'"
      ]
     },
     "execution_count": 70,
     "metadata": {},
     "output_type": "execute_result"
    }
   ],
   "source": [
    "names[\"name\"]"
   ]
  },
  {
   "cell_type": "code",
   "execution_count": 71,
   "id": "7b84dfa6",
   "metadata": {},
   "outputs": [
    {
     "data": {
      "text/plain": [
       "21"
      ]
     },
     "execution_count": 71,
     "metadata": {},
     "output_type": "execute_result"
    }
   ],
   "source": [
    "age = names['age']\n",
    "age"
   ]
  },
  {
   "cell_type": "code",
   "execution_count": 72,
   "id": "9240ad47",
   "metadata": {},
   "outputs": [
    {
     "data": {
      "text/plain": [
       "dict_keys(['name', 'age', 'race', 'color'])"
      ]
     },
     "execution_count": 72,
     "metadata": {},
     "output_type": "execute_result"
    }
   ],
   "source": [
    "names.keys()"
   ]
  },
  {
   "cell_type": "code",
   "execution_count": 73,
   "id": "d87128d9",
   "metadata": {},
   "outputs": [
    {
     "name": "stdout",
     "output_type": "stream",
     "text": [
      "['name', 'age', 'race', 'color']\n"
     ]
    }
   ],
   "source": [
    "print(list(names))\n"
   ]
  },
  {
   "cell_type": "code",
   "execution_count": 74,
   "id": "ff3b4d2e",
   "metadata": {},
   "outputs": [
    {
     "data": {
      "text/plain": [
       "dict_values(['Somo', 21, 'Indian', 'Brown'])"
      ]
     },
     "execution_count": 74,
     "metadata": {},
     "output_type": "execute_result"
    }
   ],
   "source": [
    "names.values()"
   ]
  },
  {
   "cell_type": "code",
   "execution_count": null,
   "id": "5afedfa5",
   "metadata": {},
   "outputs": [],
   "source": [
    "# update"
   ]
  },
  {
   "cell_type": "code",
   "execution_count": 79,
   "id": "f7802354",
   "metadata": {},
   "outputs": [
    {
     "data": {
      "text/plain": [
       "'God'"
      ]
     },
     "execution_count": 79,
     "metadata": {},
     "output_type": "execute_result"
    }
   ],
   "source": [
    "names['race'] = 'God'\n",
    "names['race']"
   ]
  },
  {
   "cell_type": "code",
   "execution_count": 80,
   "id": "aeb31207",
   "metadata": {},
   "outputs": [],
   "source": [
    "# add a new key\n",
    "names['weapon']='Sword'"
   ]
  },
  {
   "cell_type": "code",
   "execution_count": 81,
   "id": "2a2b2f18",
   "metadata": {},
   "outputs": [
    {
     "data": {
      "text/plain": [
       "{'name': 'Somo', 'age': 21, 'race': 'God', 'color': 'Brown', 'weapon': 'Sword'}"
      ]
     },
     "execution_count": 81,
     "metadata": {},
     "output_type": "execute_result"
    }
   ],
   "source": [
    "names"
   ]
  },
  {
   "cell_type": "code",
   "execution_count": null,
   "id": "686ca0bb",
   "metadata": {},
   "outputs": [],
   "source": []
  },
  {
   "cell_type": "code",
   "execution_count": null,
   "id": "b3162226",
   "metadata": {},
   "outputs": [],
   "source": [
    "# Delete"
   ]
  },
  {
   "cell_type": "code",
   "execution_count": 82,
   "id": "4f29c66e",
   "metadata": {},
   "outputs": [
    {
     "data": {
      "text/plain": [
       "{'name': 'Somo', 'age': 21, 'race': 'God', 'color': 'Brown'}"
      ]
     },
     "execution_count": 82,
     "metadata": {},
     "output_type": "execute_result"
    }
   ],
   "source": [
    "del names['weapon']\n",
    "names"
   ]
  },
  {
   "cell_type": "markdown",
   "id": "10882881",
   "metadata": {},
   "source": [
    "#                                        Conditions and logic"
   ]
  },
  {
   "cell_type": "code",
   "execution_count": 83,
   "id": "ab4f4c53",
   "metadata": {},
   "outputs": [
    {
     "name": "stdout",
     "output_type": "stream",
     "text": [
      "Sup Broo\n"
     ]
    }
   ],
   "source": [
    "# applying logic using the if statement\n",
    "name= 'Momo Saab'\n",
    "if name == 'Momo Saab':\n",
    "     print(\"Sup Broo\")\n",
    "else:\n",
    "    print(\"Who are you ?\")"
   ]
  },
  {
   "cell_type": "code",
   "execution_count": 92,
   "id": "b5a75869",
   "metadata": {},
   "outputs": [
    {
     "name": "stdout",
     "output_type": "stream",
     "text": [
      "Enter probability(between 0 and 1): -1\n",
      "Invalid Probability\n"
     ]
    }
   ],
   "source": [
    "probability =float(input('Enter probability(between 0 and 1): '))\n",
    "if probability >= 0.5:\n",
    "    print(\"It will probably happen\")\n",
    "elif(probability < 0):\n",
    "    print(\"Invalid Probability\")\n",
    "else:\n",
    "    print(\"It will probably not happen\")"
   ]
  },
  {
   "cell_type": "code",
   "execution_count": 113,
   "id": "c5d5e1e9",
   "metadata": {},
   "outputs": [
    {
     "name": "stdout",
     "output_type": "stream",
     "text": [
      "Enter alphabet clear\n",
      "It's a consonant \n"
     ]
    }
   ],
   "source": [
    "# Check if something is in a list\n",
    "my_list=['a','e','i','o','u']\n",
    "\n",
    "\n",
    "n=input(\"Enter alphabet \")\n",
    "if n in my_list:\n",
    "    print(\"It's a vowel \")\n",
    "elif(n.isalpha()):\n",
    "    print(\"It's a consonant \")\n",
    "else:\n",
    "    print('Not an alphabet')"
   ]
  },
  {
   "cell_type": "markdown",
   "id": "70a2302d",
   "metadata": {},
   "source": [
    "# Loops"
   ]
  },
  {
   "cell_type": "code",
   "execution_count": 22,
   "id": "1d3f955e",
   "metadata": {},
   "outputs": [
    {
     "name": "stdout",
     "output_type": "stream",
     "text": [
      "Technically she is an avenger \n",
      "\n",
      "Bruce Banner\n",
      "Natasha Romanoff\n",
      "Clint Bartan\n",
      "Tony Stark the best avenger \n",
      "\n",
      "Out of loop \n"
     ]
    }
   ],
   "source": [
    "# for loop\n",
    "names=['Captain Marvel','Bruce Banner','Natasha Romanoff','Clint Bartan','Tony Stark','Thor','Steve Rogers']\n",
    "for name in names:\n",
    "    if name=='Captain Marvel':\n",
    "        print(\"Technically she is an avenger \\n\")\n",
    "        continue\n",
    "    elif name=='Tony Stark':\n",
    "        print(name+\" the best avenger \\n\")\n",
    "        break\n",
    "    else:\n",
    "#         print(name)\n",
    "        pass\n",
    "    print(name)\n",
    "print(\"Out of loop \")"
   ]
  },
  {
   "cell_type": "code",
   "execution_count": 24,
   "id": "b95faf1d",
   "metadata": {},
   "outputs": [
    {
     "name": "stdout",
     "output_type": "stream",
     "text": [
      "0\n",
      "1\n",
      "2\n",
      "3\n",
      "4\n",
      "5\n",
      "6\n",
      "7\n",
      "8\n",
      "9\n"
     ]
    }
   ],
   "source": [
    "# loop x number of times\n",
    "for i in range(10):\n",
    "    print(i)"
   ]
  },
  {
   "cell_type": "code",
   "execution_count": 6,
   "id": "d9fde40f",
   "metadata": {},
   "outputs": [
    {
     "name": "stdout",
     "output_type": "stream",
     "text": [
      "count increased and is now 1\n",
      "count increased and is now 2\n",
      "count increased and is now 3\n",
      "count increased and is now 4\n",
      "count increased and is now 5\n",
      "Nothing left to print\n"
     ]
    }
   ],
   "source": [
    "# while loop\n",
    "count=0\n",
    "total=5\n",
    "while True:\n",
    "#     String formatting : inject values to our strings\n",
    "    print(\"count increased and is now {}\".format(count+1))\n",
    "    count+=1\n",
    "    if count == total:\n",
    "        print(\"All numbers have been printed\")\n",
    "        break"
   ]
  },
  {
   "cell_type": "markdown",
   "id": "66cb0f17",
   "metadata": {},
   "source": [
    " Loop through a dictionary"
   ]
  },
  {
   "cell_type": "code",
   "execution_count": 7,
   "id": "2f3010df",
   "metadata": {},
   "outputs": [],
   "source": [
    "person={\n",
    "    \"name\":\"Soumyajit Mandal\",\n",
    "    \"age\":21,\n",
    "    \"race\":\"Indian\",\n",
    "    \"status\":\"God\"\n",
    "}"
   ]
  },
  {
   "cell_type": "code",
   "execution_count": 8,
   "id": "0950e6e4",
   "metadata": {},
   "outputs": [
    {
     "name": "stdout",
     "output_type": "stream",
     "text": [
      "name\n",
      "age\n",
      "race\n",
      "status\n"
     ]
    }
   ],
   "source": [
    "# # accessing dictionary keys\n",
    "for key in person.keys():\n",
    "    print(key)"
   ]
  },
  {
   "cell_type": "code",
   "execution_count": 9,
   "id": "a519fbcb",
   "metadata": {},
   "outputs": [
    {
     "data": {
      "text/plain": [
       "dict_values(['Soumyajit Mandal', 21, 'Indian', 'God'])"
      ]
     },
     "execution_count": 9,
     "metadata": {},
     "output_type": "execute_result"
    }
   ],
   "source": [
    "# accessing dictionary values\n",
    "person.values()"
   ]
  },
  {
   "cell_type": "code",
   "execution_count": 10,
   "id": "e0ab0a31",
   "metadata": {},
   "outputs": [
    {
     "name": "stdout",
     "output_type": "stream",
     "text": [
      "Soumyajit Mandal\n",
      "21\n",
      "Indian\n",
      "God\n"
     ]
    }
   ],
   "source": [
    "for value in person.values():\n",
    "    print(value)"
   ]
  },
  {
   "cell_type": "code",
   "execution_count": 12,
   "id": "96e5ea72",
   "metadata": {},
   "outputs": [
    {
     "data": {
      "text/plain": [
       "dict_items([('name', 'Soumyajit Mandal'), ('age', 21), ('race', 'Indian'), ('status', 'God')])"
      ]
     },
     "execution_count": 12,
     "metadata": {},
     "output_type": "execute_result"
    }
   ],
   "source": [
    "person.items()\n",
    "# this creates tuples a list"
   ]
  },
  {
   "cell_type": "code",
   "execution_count": 14,
   "id": "d532d85a",
   "metadata": {},
   "outputs": [
    {
     "name": "stdout",
     "output_type": "stream",
     "text": [
      "name  :  Soumyajit Mandal\n",
      "age  :  21\n",
      "race  :  Indian\n",
      "status  :  God\n"
     ]
    }
   ],
   "source": [
    "# loop thorug keys and values at the same time \n",
    "# with (key,value) we are unpacking them in real time\n",
    "for key,value in person.items():\n",
    "        print(key,\" : \",value)"
   ]
  },
  {
   "cell_type": "markdown",
   "id": "e4ce63bb",
   "metadata": {},
   "source": [
    "list comprehension "
   ]
  },
  {
   "cell_type": "code",
   "execution_count": 25,
   "id": "6f4680c8",
   "metadata": {},
   "outputs": [
    {
     "data": {
      "text/plain": [
       "['Somo', 'Momo', 'God', 'Beelzebub']"
      ]
     },
     "execution_count": 25,
     "metadata": {},
     "output_type": "execute_result"
    }
   ],
   "source": [
    "names=['somo','momo','god',\"beelzebub\"]\n",
    "new_person=[name.title()for name in names]\n",
    "new_person"
   ]
  },
  {
   "cell_type": "code",
   "execution_count": 26,
   "id": "17620efb",
   "metadata": {},
   "outputs": [
    {
     "data": {
      "text/plain": [
       "['somo', 'momo', 'god', 'beelzebub']"
      ]
     },
     "execution_count": 26,
     "metadata": {},
     "output_type": "execute_result"
    }
   ],
   "source": [
    "names"
   ]
  },
  {
   "cell_type": "markdown",
   "id": "d0a00adb",
   "metadata": {},
   "source": [
    "# Functions"
   ]
  },
  {
   "cell_type": "markdown",
   "id": "464fea50",
   "metadata": {},
   "source": [
    "#### purpose : reuse code multiple times "
   ]
  },
  {
   "cell_type": "code",
   "execution_count": 33,
   "id": "f7043798",
   "metadata": {},
   "outputs": [],
   "source": [
    "def welcome(name):\n",
    "        print(\"Hello\",name)"
   ]
  },
  {
   "cell_type": "code",
   "execution_count": 34,
   "id": "5b10eaea",
   "metadata": {},
   "outputs": [
    {
     "name": "stdout",
     "output_type": "stream",
     "text": [
      "Hello Momo\n"
     ]
    }
   ],
   "source": [
    "welcome('Momo')"
   ]
  },
  {
   "cell_type": "code",
   "execution_count": 37,
   "id": "e8a395f8",
   "metadata": {},
   "outputs": [],
   "source": [
    "def add_func(a,b):\n",
    "    return int(a)+int(b)"
   ]
  },
  {
   "cell_type": "code",
   "execution_count": 38,
   "id": "d8451f33",
   "metadata": {},
   "outputs": [
    {
     "name": "stdout",
     "output_type": "stream",
     "text": [
      "Enter first number: 2\n",
      "Enter Second number: 3\n",
      "The addition is  5\n"
     ]
    }
   ],
   "source": [
    "num1=input(\"Enter first number: \")\n",
    "num2=input(\"Enter Second number: \")\n",
    "print(\"The addition is \",add_func(num1,num2))"
   ]
  },
  {
   "cell_type": "code",
   "execution_count": 39,
   "id": "def2986d",
   "metadata": {},
   "outputs": [],
   "source": [
    "names=['Somo','Momo','Papa','God','Beelzebub']"
   ]
  },
  {
   "cell_type": "code",
   "execution_count": 41,
   "id": "8eb12e6c",
   "metadata": {},
   "outputs": [],
   "source": [
    "def custom_welcome(name):\n",
    "    print('Welocme {}'.format(name))"
   ]
  },
  {
   "cell_type": "code",
   "execution_count": 44,
   "id": "b60a1c5a",
   "metadata": {},
   "outputs": [
    {
     "name": "stdout",
     "output_type": "stream",
     "text": [
      "Who are you ? \n",
      "Soumyajit\n",
      "Welocme Soumyajit\n"
     ]
    }
   ],
   "source": [
    "person=input(\"Who are you ? \\n\")\n",
    "custom_welcome(person)"
   ]
  },
  {
   "cell_type": "code",
   "execution_count": 45,
   "id": "d140f09d",
   "metadata": {},
   "outputs": [
    {
     "name": "stdout",
     "output_type": "stream",
     "text": [
      "Welocme Somo\n",
      "Welocme Momo\n",
      "Welocme Papa\n",
      "Welocme God\n",
      "Welocme Beelzebub\n"
     ]
    }
   ],
   "source": [
    "for name in names:\n",
    "    custom_welcome(name)"
   ]
  },
  {
   "cell_type": "code",
   "execution_count": 46,
   "id": "0f0cbbd4",
   "metadata": {},
   "outputs": [],
   "source": [
    "def name(f_name,m_name,l_name):\n",
    "    print(\"Hello {} , your title is {} and middle name is {}\".format(f_name,l_name,m_name))"
   ]
  },
  {
   "cell_type": "code",
   "execution_count": 47,
   "id": "7e9fb199",
   "metadata": {},
   "outputs": [
    {
     "name": "stdout",
     "output_type": "stream",
     "text": [
      "Enter first nameSomo\n",
      "Enter middle nameGod \n",
      "Enter last nameMomo\n",
      "Hello Somo , your title is Momo and middle name is God \n"
     ]
    }
   ],
   "source": [
    "f_name=input(\"Enter first name\")\n",
    "m_name=input(\"Enter middle name\")\n",
    "l_name=input(\"Enter last name\")\n",
    "name(f_name,m_name,l_name)"
   ]
  },
  {
   "cell_type": "code",
   "execution_count": 55,
   "id": "2e0d2759",
   "metadata": {},
   "outputs": [],
   "source": [
    "names=['Somo','Momo','Papa','God','Beelzebub']\n",
    "title=['Hero','Supporter','NPC','Game Master','Villain']"
   ]
  },
  {
   "cell_type": "code",
   "execution_count": 56,
   "id": "b2158320",
   "metadata": {},
   "outputs": [
    {
     "data": {
      "text/plain": [
       "['Hero', 'Supporter', 'NPC', 'Game Master', 'Villain']"
      ]
     },
     "execution_count": 56,
     "metadata": {},
     "output_type": "execute_result"
    }
   ],
   "source": [
    "title"
   ]
  },
  {
   "cell_type": "code",
   "execution_count": 64,
   "id": "a6e1efcb",
   "metadata": {},
   "outputs": [
    {
     "name": "stdout",
     "output_type": "stream",
     "text": [
      "Welocme Somo\n",
      "0 None  title  Hero\n",
      "Welocme Momo\n",
      "1 None  title  Supporter\n",
      "Welocme Papa\n",
      "2 None  title  NPC\n",
      "Welocme God\n",
      "3 None  title  Game Master\n",
      "Welocme Beelzebub\n",
      "4 None  title  Villain\n"
     ]
    }
   ],
   "source": [
    "# loop 2 list together\n",
    "for i,name in enumerate(names):\n",
    "    print(i,custom_welcome(name),' title ',title[i])\n",
    "    "
   ]
  },
  {
   "cell_type": "code",
   "execution_count": 5,
   "id": "db81b123",
   "metadata": {},
   "outputs": [
    {
     "name": "stdout",
     "output_type": "stream",
     "text": [
      "none\n",
      "Momo\n"
     ]
    }
   ],
   "source": [
    "# default values\n",
    "def names(name='none'):\n",
    "    print(name)\n",
    "    \n",
    "names()\n",
    "names('Momo')\n",
    "    "
   ]
  },
  {
   "cell_type": "markdown",
   "id": "ddf54eb8",
   "metadata": {},
   "source": [
    "lmabda"
   ]
  },
  {
   "cell_type": "code",
   "execution_count": 7,
   "id": "b32719dc",
   "metadata": {},
   "outputs": [
    {
     "data": {
      "text/plain": [
       "15.700000000000001"
      ]
     },
     "execution_count": 7,
     "metadata": {},
     "output_type": "execute_result"
    }
   ],
   "source": [
    "pi=lambda x: x*3.14\n",
    "pi(5)"
   ]
  },
  {
   "cell_type": "markdown",
   "id": "3fe73171",
   "metadata": {},
   "source": [
    "## Classes"
   ]
  },
  {
   "cell_type": "code",
   "execution_count": 19,
   "id": "bcb96df0",
   "metadata": {},
   "outputs": [],
   "source": [
    "# a boilerplate for objects\n",
    "class Person():\n",
    "#   the methods that run as soon as we come to class\n",
    "    def __init__(self,name,age,race):\n",
    "        self.name=name\n",
    "        self.age=age\n",
    "        self.race=race \n",
    "    def year_of_birth(self):\n",
    "        return 2023-self.age\n",
    "    def project_age(self,year=5):\n",
    "        return self.age+year"
   ]
  },
  {
   "cell_type": "code",
   "execution_count": 21,
   "id": "2b77f953",
   "metadata": {},
   "outputs": [],
   "source": [
    "somo=Person('Somo',21,'Indian')"
   ]
  },
  {
   "cell_type": "code",
   "execution_count": 11,
   "id": "26387823",
   "metadata": {},
   "outputs": [
    {
     "data": {
      "text/plain": [
       "21"
      ]
     },
     "execution_count": 11,
     "metadata": {},
     "output_type": "execute_result"
    }
   ],
   "source": [
    "somo.age"
   ]
  },
  {
   "cell_type": "code",
   "execution_count": 12,
   "id": "38a3ba9b",
   "metadata": {},
   "outputs": [
    {
     "data": {
      "text/plain": [
       "2002"
      ]
     },
     "execution_count": 12,
     "metadata": {},
     "output_type": "execute_result"
    }
   ],
   "source": [
    "somo.year_of_birth()"
   ]
  },
  {
   "cell_type": "code",
   "execution_count": 25,
   "id": "8f6d30c6",
   "metadata": {},
   "outputs": [
    {
     "data": {
      "text/plain": [
       "31"
      ]
     },
     "execution_count": 25,
     "metadata": {},
     "output_type": "execute_result"
    }
   ],
   "source": [
    "# in (x) years I will be ...\n",
    "somo.project_age(10)"
   ]
  },
  {
   "cell_type": "code",
   "execution_count": 27,
   "id": "c78daa9b",
   "metadata": {},
   "outputs": [
    {
     "data": {
      "text/plain": [
       "31"
      ]
     },
     "execution_count": 27,
     "metadata": {},
     "output_type": "execute_result"
    }
   ],
   "source": [
    "# This works too\n",
    "somo.project_age(year=10)"
   ]
  },
  {
   "cell_type": "markdown",
   "id": "37ff03a4",
   "metadata": {},
   "source": [
    "### inheritance \n",
    "- Parent passes to child that inhherits the parent class's methods and attributes "
   ]
  },
  {
   "cell_type": "code",
   "execution_count": 62,
   "id": "4d8edfeb",
   "metadata": {},
   "outputs": [],
   "source": [
    "# child class = lads\n",
    "class Lads(Person):\n",
    "    def __init__(self,name,age,race,lifespan_in_years):\n",
    "#         super gives us access the papa class\n",
    "        super().__init__(name,age,race)\n",
    "        self.lifespan_in_years=lifespan_in_years\n",
    "#     Also we can use new methods\n",
    "    def age_left(self):\n",
    "        return self.project_age(self.lifespan_in_years-self.age)"
   ]
  },
  {
   "cell_type": "code",
   "execution_count": 63,
   "id": "19740c44",
   "metadata": {},
   "outputs": [],
   "source": [
    "momo=Lads('Momo',45,'Indian',70)"
   ]
  },
  {
   "cell_type": "code",
   "execution_count": 64,
   "id": "fdea6d93",
   "metadata": {},
   "outputs": [
    {
     "data": {
      "text/plain": [
       "70"
      ]
     },
     "execution_count": 64,
     "metadata": {},
     "output_type": "execute_result"
    }
   ],
   "source": [
    "momo.age\n",
    "momo.lifespan_in_years\n",
    "momo.year_of_birth()\n",
    "momo.age_left()"
   ]
  },
  {
   "cell_type": "code",
   "execution_count": null,
   "id": "647524bd",
   "metadata": {},
   "outputs": [],
   "source": []
  },
  {
   "cell_type": "code",
   "execution_count": null,
   "id": "36243774",
   "metadata": {},
   "outputs": [],
   "source": []
  },
  {
   "cell_type": "code",
   "execution_count": null,
   "id": "36324f6d",
   "metadata": {},
   "outputs": [],
   "source": []
  },
  {
   "cell_type": "code",
   "execution_count": null,
   "id": "eadfb9c8",
   "metadata": {},
   "outputs": [],
   "source": []
  },
  {
   "cell_type": "code",
   "execution_count": null,
   "id": "8768c63e",
   "metadata": {},
   "outputs": [],
   "source": []
  },
  {
   "cell_type": "code",
   "execution_count": null,
   "id": "72d94cab",
   "metadata": {},
   "outputs": [],
   "source": []
  },
  {
   "cell_type": "code",
   "execution_count": null,
   "id": "113b7a17",
   "metadata": {},
   "outputs": [],
   "source": []
  },
  {
   "cell_type": "code",
   "execution_count": null,
   "id": "2d7e5bc8",
   "metadata": {},
   "outputs": [],
   "source": []
  },
  {
   "cell_type": "code",
   "execution_count": null,
   "id": "fd426edc",
   "metadata": {},
   "outputs": [],
   "source": []
  },
  {
   "cell_type": "code",
   "execution_count": null,
   "id": "9e28d73c",
   "metadata": {},
   "outputs": [],
   "source": []
  },
  {
   "cell_type": "code",
   "execution_count": null,
   "id": "7a6ed48c",
   "metadata": {},
   "outputs": [],
   "source": []
  },
  {
   "cell_type": "code",
   "execution_count": null,
   "id": "21644015",
   "metadata": {},
   "outputs": [],
   "source": []
  },
  {
   "cell_type": "code",
   "execution_count": null,
   "id": "fd8c4ee0",
   "metadata": {},
   "outputs": [],
   "source": []
  },
  {
   "cell_type": "code",
   "execution_count": null,
   "id": "53b2cded",
   "metadata": {},
   "outputs": [],
   "source": []
  },
  {
   "cell_type": "code",
   "execution_count": null,
   "id": "1f5a34ec",
   "metadata": {},
   "outputs": [],
   "source": []
  },
  {
   "cell_type": "code",
   "execution_count": null,
   "id": "4c899979",
   "metadata": {},
   "outputs": [],
   "source": []
  },
  {
   "cell_type": "code",
   "execution_count": null,
   "id": "c6e66c06",
   "metadata": {},
   "outputs": [],
   "source": []
  },
  {
   "cell_type": "code",
   "execution_count": null,
   "id": "0fcb3ffe",
   "metadata": {},
   "outputs": [],
   "source": []
  },
  {
   "cell_type": "code",
   "execution_count": null,
   "id": "88a538d1",
   "metadata": {},
   "outputs": [],
   "source": []
  },
  {
   "cell_type": "code",
   "execution_count": null,
   "id": "c0e827d2",
   "metadata": {},
   "outputs": [],
   "source": []
  },
  {
   "cell_type": "code",
   "execution_count": null,
   "id": "5b02cba6",
   "metadata": {},
   "outputs": [],
   "source": []
  },
  {
   "cell_type": "code",
   "execution_count": null,
   "id": "f21e4822",
   "metadata": {},
   "outputs": [],
   "source": []
  },
  {
   "cell_type": "code",
   "execution_count": null,
   "id": "4a965ca6",
   "metadata": {},
   "outputs": [],
   "source": []
  },
  {
   "cell_type": "code",
   "execution_count": null,
   "id": "d93162e5",
   "metadata": {},
   "outputs": [],
   "source": []
  },
  {
   "cell_type": "code",
   "execution_count": null,
   "id": "db17b97f",
   "metadata": {},
   "outputs": [],
   "source": []
  },
  {
   "cell_type": "code",
   "execution_count": null,
   "id": "989f40da",
   "metadata": {},
   "outputs": [],
   "source": []
  },
  {
   "cell_type": "code",
   "execution_count": null,
   "id": "3ba8e898",
   "metadata": {},
   "outputs": [],
   "source": []
  },
  {
   "cell_type": "code",
   "execution_count": null,
   "id": "775acc10",
   "metadata": {},
   "outputs": [],
   "source": []
  },
  {
   "cell_type": "code",
   "execution_count": null,
   "id": "bf596d18",
   "metadata": {},
   "outputs": [],
   "source": []
  },
  {
   "cell_type": "code",
   "execution_count": null,
   "id": "72271b26",
   "metadata": {},
   "outputs": [],
   "source": []
  },
  {
   "cell_type": "code",
   "execution_count": null,
   "id": "333f7df7",
   "metadata": {},
   "outputs": [],
   "source": []
  },
  {
   "cell_type": "code",
   "execution_count": null,
   "id": "11fbd0e5",
   "metadata": {},
   "outputs": [],
   "source": []
  },
  {
   "cell_type": "code",
   "execution_count": null,
   "id": "721b9c75",
   "metadata": {},
   "outputs": [],
   "source": []
  },
  {
   "cell_type": "code",
   "execution_count": null,
   "id": "5bde4d0f",
   "metadata": {},
   "outputs": [],
   "source": []
  }
 ],
 "metadata": {
  "kernelspec": {
   "display_name": "Python 3 (ipykernel)",
   "language": "python",
   "name": "python3"
  },
  "language_info": {
   "codemirror_mode": {
    "name": "ipython",
    "version": 3
   },
   "file_extension": ".py",
   "mimetype": "text/x-python",
   "name": "python",
   "nbconvert_exporter": "python",
   "pygments_lexer": "ipython3",
   "version": "3.11.1"
  }
 },
 "nbformat": 4,
 "nbformat_minor": 5
}
