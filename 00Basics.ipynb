{
 "cells": [
  {
   "cell_type": "markdown",
   "id": "7a94a920",
   "metadata": {},
   "source": [
    "# Python for Data Science"
   ]
  },
  {
   "cell_type": "code",
   "execution_count": 3,
   "id": "b105bf7c",
   "metadata": {},
   "outputs": [],
   "source": [
    "# Difference between a list and tuple\n",
    "my_list=[1,2,3,4,5,6.9,7.2,1,3,5]\n",
    "my_tuple=(1,2,3,4,5,6.9,7.2)\n",
    "set_variable={1,2,3,4,5,6.9,7.2}"
   ]
  },
  {
   "cell_type": "code",
   "execution_count": 21,
   "id": "d2ec207e",
   "metadata": {},
   "outputs": [],
   "source": [
    "# Simlarity\n",
    "# print(\"List value \")\n",
    "# my_list[5]\n",
    "# print(\"Tuple value \") \n",
    "# my_tuple[1]"
   ]
  },
  {
   "cell_type": "code",
   "execution_count": 26,
   "id": "a2e2f5a8",
   "metadata": {},
   "outputs": [],
   "source": [
    "# Diff\n",
    "# tuples are immutable - no modifications \n",
    "# my_tuple[2]=5\n",
    "# to modify it first convert it to a list "
   ]
  },
  {
   "cell_type": "code",
   "execution_count": 31,
   "id": "28839435",
   "metadata": {},
   "outputs": [],
   "source": [
    "# Set variables also are immutable \n",
    "# also, can't contain duplicate values\n",
    "# some_set={1,2,3,5,2,2.1}\n",
    "# some_set\n",
    "# hence useful to remove redundant values from a list or set "
   ]
  },
  {
   "cell_type": "code",
   "execution_count": 35,
   "id": "4a13cab7",
   "metadata": {},
   "outputs": [
    {
     "data": {
      "text/plain": [
       "[1, 2, 3, 4, 5, 6.9, 7.2]"
      ]
     },
     "execution_count": 35,
     "metadata": {},
     "output_type": "execute_result"
    }
   ],
   "source": [
    "# so we convert a list to set and then again back to a list to remove duplicate values\n",
    "list(set(my_list))"
   ]
  },
  {
   "cell_type": "code",
   "execution_count": 44,
   "id": "1a11e267",
   "metadata": {},
   "outputs": [],
   "source": [
    "# Dictionary \n",
    "# It creates keys and assign values to it \n",
    "person_variable={\n",
    "    'name':\"Momo\",\n",
    "    \"color\":\"Brown\",\n",
    "    'number':7\n",
    "}"
   ]
  },
  {
   "cell_type": "code",
   "execution_count": 45,
   "id": "fdb7a66a",
   "metadata": {},
   "outputs": [
    {
     "data": {
      "text/plain": [
       "'Momo'"
      ]
     },
     "execution_count": 45,
     "metadata": {},
     "output_type": "execute_result"
    }
   ],
   "source": [
    "# we parse through keys to get values\n",
    "person_variable['name']"
   ]
  },
  {
   "cell_type": "markdown",
   "id": "8f0a9e66",
   "metadata": {},
   "source": [
    "# Lists"
   ]
  },
  {
   "cell_type": "markdown",
   "id": "5037c82a",
   "metadata": {},
   "source": [
    "#### CRUD"
   ]
  },
  {
   "cell_type": "markdown",
   "id": "e2db5556",
   "metadata": {},
   "source": [
    "##### Create"
   ]
  },
  {
   "cell_type": "code",
   "execution_count": 47,
   "id": "f4190dda",
   "metadata": {},
   "outputs": [],
   "source": [
    "names=['Captain Marvel','Bruce Banner','Natasha Romanoff','Clint Bartan','Tony Stark','Thor','Steve Rogers']"
   ]
  },
  {
   "cell_type": "markdown",
   "id": "a7b24306",
   "metadata": {},
   "source": [
    "##### Read"
   ]
  },
  {
   "cell_type": "code",
   "execution_count": 53,
   "id": "063c39b1",
   "metadata": {},
   "outputs": [
    {
     "data": {
      "text/plain": [
       "'Captain Marvel'"
      ]
     },
     "execution_count": 53,
     "metadata": {},
     "output_type": "execute_result"
    }
   ],
   "source": [
    "# indexing \n",
    "\n",
    "names[0] #first element \n",
    "names[-1] #last element\n",
    "len(names) #len of elements"
   ]
  },
  {
   "cell_type": "markdown",
   "id": "bf133041",
   "metadata": {},
   "source": [
    "##### Update"
   ]
  },
  {
   "cell_type": "code",
   "execution_count": 60,
   "id": "57ebd4ee",
   "metadata": {},
   "outputs": [
    {
     "data": {
      "text/plain": [
       "['Captain Marvel',\n",
       " 'Bruce Banner',\n",
       " 'Natasha Romanoff',\n",
       " 'Clint Bartan',\n",
       " 'Tony Stark',\n",
       " 'Thor Odinson',\n",
       " 'Steve Rogers']"
      ]
     },
     "execution_count": 60,
     "metadata": {},
     "output_type": "execute_result"
    }
   ],
   "source": [
    "names[-2]='Thor Odinson'\n",
    "names\n"
   ]
  },
  {
   "cell_type": "code",
   "execution_count": 62,
   "id": "ef7b984f",
   "metadata": {},
   "outputs": [
    {
     "data": {
      "text/plain": [
       "['Captain Marvel',\n",
       " 'Bruce Banner',\n",
       " 'Natasha Romanoff',\n",
       " 'Clint Bartan',\n",
       " 'Tony Stark',\n",
       " 'Thor Odinson',\n",
       " 'Steve Rogers',\n",
       " 'Peter Parker']"
      ]
     },
     "execution_count": 62,
     "metadata": {},
     "output_type": "execute_result"
    }
   ],
   "source": [
    "# we forgot spidey\n",
    "names.append('Peter Parker')\n",
    "names"
   ]
  },
  {
   "cell_type": "code",
   "execution_count": 63,
   "id": "3df2d1ae",
   "metadata": {},
   "outputs": [
    {
     "data": {
      "text/plain": [
       "['Nick Fury',\n",
       " 'Captain Marvel',\n",
       " 'Bruce Banner',\n",
       " 'Natasha Romanoff',\n",
       " 'Clint Bartan',\n",
       " 'Tony Stark',\n",
       " 'Thor Odinson',\n",
       " 'Steve Rogers',\n",
       " 'Peter Parker']"
      ]
     },
     "execution_count": 63,
     "metadata": {},
     "output_type": "execute_result"
    }
   ],
   "source": [
    "names.insert(0,'Nick Fury')\n",
    "names"
   ]
  },
  {
   "cell_type": "markdown",
   "id": "d021bd29",
   "metadata": {},
   "source": [
    "##### Delete"
   ]
  },
  {
   "cell_type": "code",
   "execution_count": 65,
   "id": "a068b41e",
   "metadata": {},
   "outputs": [
    {
     "data": {
      "text/plain": [
       "['Nick Fury',\n",
       " 'Bruce Banner',\n",
       " 'Natasha Romanoff',\n",
       " 'Clint Bartan',\n",
       " 'Tony Stark',\n",
       " 'Thor Odinson',\n",
       " 'Steve Rogers',\n",
       " 'Peter Parker']"
      ]
     },
     "execution_count": 65,
     "metadata": {},
     "output_type": "execute_result"
    }
   ],
   "source": [
    "del names[1]\n",
    "names"
   ]
  },
  {
   "cell_type": "markdown",
   "id": "002343c9",
   "metadata": {},
   "source": [
    "### Dictionaries "
   ]
  },
  {
   "cell_type": "code",
   "execution_count": null,
   "id": "6b1d11e7",
   "metadata": {},
   "outputs": [],
   "source": [
    "# create"
   ]
  },
  {
   "cell_type": "code",
   "execution_count": 66,
   "id": "65a85e5c",
   "metadata": {},
   "outputs": [],
   "source": [
    "names={\n",
    "    \"name\":\"Somo\" , \n",
    "    \"age\": 21, \n",
    "    \"race\": \"Indian\",\n",
    "    \"color\": \"Brown\"\n",
    "}"
   ]
  },
  {
   "cell_type": "code",
   "execution_count": null,
   "id": "230273ba",
   "metadata": {},
   "outputs": [],
   "source": [
    "# read "
   ]
  },
  {
   "cell_type": "code",
   "execution_count": 67,
   "id": "e10a9d15",
   "metadata": {},
   "outputs": [
    {
     "data": {
      "text/plain": [
       "{'name': 'Somo', 'age': 21, 'race': 'Indian', 'color': 'Brown'}"
      ]
     },
     "execution_count": 67,
     "metadata": {},
     "output_type": "execute_result"
    }
   ],
   "source": [
    "names"
   ]
  },
  {
   "cell_type": "code",
   "execution_count": 70,
   "id": "e008a723",
   "metadata": {},
   "outputs": [
    {
     "data": {
      "text/plain": [
       "'Somo'"
      ]
     },
     "execution_count": 70,
     "metadata": {},
     "output_type": "execute_result"
    }
   ],
   "source": [
    "names[\"name\"]"
   ]
  },
  {
   "cell_type": "code",
   "execution_count": 71,
   "id": "7b84dfa6",
   "metadata": {},
   "outputs": [
    {
     "data": {
      "text/plain": [
       "21"
      ]
     },
     "execution_count": 71,
     "metadata": {},
     "output_type": "execute_result"
    }
   ],
   "source": [
    "age = names['age']\n",
    "age"
   ]
  },
  {
   "cell_type": "code",
   "execution_count": 72,
   "id": "9240ad47",
   "metadata": {},
   "outputs": [
    {
     "data": {
      "text/plain": [
       "dict_keys(['name', 'age', 'race', 'color'])"
      ]
     },
     "execution_count": 72,
     "metadata": {},
     "output_type": "execute_result"
    }
   ],
   "source": [
    "names.keys()"
   ]
  },
  {
   "cell_type": "code",
   "execution_count": 73,
   "id": "d87128d9",
   "metadata": {},
   "outputs": [
    {
     "name": "stdout",
     "output_type": "stream",
     "text": [
      "['name', 'age', 'race', 'color']\n"
     ]
    }
   ],
   "source": [
    "print(list(names))\n"
   ]
  },
  {
   "cell_type": "code",
   "execution_count": 74,
   "id": "ff3b4d2e",
   "metadata": {},
   "outputs": [
    {
     "data": {
      "text/plain": [
       "dict_values(['Somo', 21, 'Indian', 'Brown'])"
      ]
     },
     "execution_count": 74,
     "metadata": {},
     "output_type": "execute_result"
    }
   ],
   "source": [
    "names.values()"
   ]
  },
  {
   "cell_type": "code",
   "execution_count": null,
   "id": "5afedfa5",
   "metadata": {},
   "outputs": [],
   "source": [
    "# update"
   ]
  },
  {
   "cell_type": "code",
   "execution_count": 79,
   "id": "f7802354",
   "metadata": {},
   "outputs": [
    {
     "data": {
      "text/plain": [
       "'God'"
      ]
     },
     "execution_count": 79,
     "metadata": {},
     "output_type": "execute_result"
    }
   ],
   "source": [
    "names['race'] = 'God'\n",
    "names['race']"
   ]
  },
  {
   "cell_type": "code",
   "execution_count": 80,
   "id": "aeb31207",
   "metadata": {},
   "outputs": [],
   "source": [
    "# add a new key\n",
    "names['weapon']='Sword'"
   ]
  },
  {
   "cell_type": "code",
   "execution_count": 81,
   "id": "2a2b2f18",
   "metadata": {},
   "outputs": [
    {
     "data": {
      "text/plain": [
       "{'name': 'Somo', 'age': 21, 'race': 'God', 'color': 'Brown', 'weapon': 'Sword'}"
      ]
     },
     "execution_count": 81,
     "metadata": {},
     "output_type": "execute_result"
    }
   ],
   "source": [
    "names"
   ]
  },
  {
   "cell_type": "code",
   "execution_count": null,
   "id": "686ca0bb",
   "metadata": {},
   "outputs": [],
   "source": []
  },
  {
   "cell_type": "code",
   "execution_count": null,
   "id": "b3162226",
   "metadata": {},
   "outputs": [],
   "source": [
    "# Delete"
   ]
  },
  {
   "cell_type": "code",
   "execution_count": 82,
   "id": "4f29c66e",
   "metadata": {},
   "outputs": [
    {
     "data": {
      "text/plain": [
       "{'name': 'Somo', 'age': 21, 'race': 'God', 'color': 'Brown'}"
      ]
     },
     "execution_count": 82,
     "metadata": {},
     "output_type": "execute_result"
    }
   ],
   "source": [
    "del names['weapon']\n",
    "names"
   ]
  },
  {
   "cell_type": "markdown",
   "id": "10882881",
   "metadata": {},
   "source": [
    "#                                        Conditions and logic"
   ]
  },
  {
   "cell_type": "code",
   "execution_count": 83,
   "id": "ab4f4c53",
   "metadata": {},
   "outputs": [
    {
     "name": "stdout",
     "output_type": "stream",
     "text": [
      "Sup Broo\n"
     ]
    }
   ],
   "source": [
    "# applying logic using the if statement\n",
    "name= 'Momo Saab'\n",
    "if name == 'Momo Saab':\n",
    "     print(\"Sup Broo\")\n",
    "else:\n",
    "    print(\"Who are you ?\")"
   ]
  },
  {
   "cell_type": "code",
   "execution_count": 92,
   "id": "b5a75869",
   "metadata": {},
   "outputs": [
    {
     "name": "stdout",
     "output_type": "stream",
     "text": [
      "Enter probability(between 0 and 1): -1\n",
      "Invalid Probability\n"
     ]
    }
   ],
   "source": [
    "probability =float(input('Enter probability(between 0 and 1): '))\n",
    "if probability >= 0.5:\n",
    "    print(\"It will probably happen\")\n",
    "elif(probability < 0):\n",
    "    print(\"Invalid Probability\")\n",
    "else:\n",
    "    print(\"It will probably not happen\")"
   ]
  },
  {
   "cell_type": "code",
   "execution_count": 113,
   "id": "c5d5e1e9",
   "metadata": {},
   "outputs": [
    {
     "name": "stdout",
     "output_type": "stream",
     "text": [
      "Enter alphabet clear\n",
      "It's a consonant \n"
     ]
    }
   ],
   "source": [
    "# Check if something is in a list\n",
    "my_list=['a','e','i','o','u']\n",
    "\n",
    "\n",
    "n=input(\"Enter alphabet \")\n",
    "if n in my_list:\n",
    "    print(\"It's a vowel \")\n",
    "elif(n.isalpha()):\n",
    "    print(\"It's a consonant \")\n",
    "else:\n",
    "    print('Not an alphabet')"
   ]
  },
  {
   "cell_type": "markdown",
   "id": "70a2302d",
   "metadata": {},
   "source": [
    "# Loops"
   ]
  },
  {
   "cell_type": "code",
   "execution_count": 22,
   "id": "1d3f955e",
   "metadata": {},
   "outputs": [
    {
     "name": "stdout",
     "output_type": "stream",
     "text": [
      "Technically she is an avenger \n",
      "\n",
      "Bruce Banner\n",
      "Natasha Romanoff\n",
      "Clint Bartan\n",
      "Tony Stark the best avenger \n",
      "\n",
      "Out of loop \n"
     ]
    }
   ],
   "source": [
    "# for loop\n",
    "names=['Captain Marvel','Bruce Banner','Natasha Romanoff','Clint Bartan','Tony Stark','Thor','Steve Rogers']\n",
    "for name in names:\n",
    "    if name=='Captain Marvel':\n",
    "        print(\"Technically she is an avenger \\n\")\n",
    "        continue\n",
    "    elif name=='Tony Stark':\n",
    "        print(name+\" the best avenger \\n\")\n",
    "        break\n",
    "    else:\n",
    "#         print(name)\n",
    "        pass\n",
    "    print(name)\n",
    "print(\"Out of loop \")"
   ]
  },
  {
   "cell_type": "code",
   "execution_count": 24,
   "id": "b95faf1d",
   "metadata": {},
   "outputs": [
    {
     "name": "stdout",
     "output_type": "stream",
     "text": [
      "0\n",
      "1\n",
      "2\n",
      "3\n",
      "4\n",
      "5\n",
      "6\n",
      "7\n",
      "8\n",
      "9\n"
     ]
    }
   ],
   "source": [
    "# loop x number of times\n",
    "for i in range(10):\n",
    "    print(i)"
   ]
  },
  {
   "cell_type": "code",
   "execution_count": 6,
   "id": "d9fde40f",
   "metadata": {},
   "outputs": [
    {
     "name": "stdout",
     "output_type": "stream",
     "text": [
      "count increased and is now 1\n",
      "count increased and is now 2\n",
      "count increased and is now 3\n",
      "count increased and is now 4\n",
      "count increased and is now 5\n",
      "Nothing left to print\n"
     ]
    }
   ],
   "source": [
    "# while loop\n",
    "count=0\n",
    "total=5\n",
    "while True:\n",
    "#     String formatting : inject values to our strings\n",
    "    print(\"count increased and is now {}\".format(count+1))\n",
    "    count+=1\n",
    "    if count == total:\n",
    "        print(\"All numbers have been printed\")\n",
    "        break"
   ]
  },
  {
   "cell_type": "markdown",
   "id": "66cb0f17",
   "metadata": {},
   "source": [
    " Loop through a dictionary"
   ]
  },
  {
   "cell_type": "code",
   "execution_count": 7,
   "id": "2f3010df",
   "metadata": {},
   "outputs": [],
   "source": [
    "person={\n",
    "    \"name\":\"Soumyajit Mandal\",\n",
    "    \"age\":21,\n",
    "    \"race\":\"Indian\",\n",
    "    \"status\":\"God\"\n",
    "}"
   ]
  },
  {
   "cell_type": "code",
   "execution_count": 8,
   "id": "0950e6e4",
   "metadata": {},
   "outputs": [
    {
     "name": "stdout",
     "output_type": "stream",
     "text": [
      "name\n",
      "age\n",
      "race\n",
      "status\n"
     ]
    }
   ],
   "source": [
    "# # accessing dictionary keys\n",
    "for key in person.keys():\n",
    "    print(key)"
   ]
  },
  {
   "cell_type": "code",
   "execution_count": 9,
   "id": "a519fbcb",
   "metadata": {},
   "outputs": [
    {
     "data": {
      "text/plain": [
       "dict_values(['Soumyajit Mandal', 21, 'Indian', 'God'])"
      ]
     },
     "execution_count": 9,
     "metadata": {},
     "output_type": "execute_result"
    }
   ],
   "source": [
    "# accessing dictionary values\n",
    "person.values()"
   ]
  },
  {
   "cell_type": "code",
   "execution_count": 10,
   "id": "e0ab0a31",
   "metadata": {},
   "outputs": [
    {
     "name": "stdout",
     "output_type": "stream",
     "text": [
      "Soumyajit Mandal\n",
      "21\n",
      "Indian\n",
      "God\n"
     ]
    }
   ],
   "source": [
    "for value in person.values():\n",
    "    print(value)"
   ]
  },
  {
   "cell_type": "code",
   "execution_count": 12,
   "id": "96e5ea72",
   "metadata": {},
   "outputs": [
    {
     "data": {
      "text/plain": [
       "dict_items([('name', 'Soumyajit Mandal'), ('age', 21), ('race', 'Indian'), ('status', 'God')])"
      ]
     },
     "execution_count": 12,
     "metadata": {},
     "output_type": "execute_result"
    }
   ],
   "source": [
    "person.items()\n",
    "# this creates tuples a list"
   ]
  },
  {
   "cell_type": "code",
   "execution_count": 14,
   "id": "d532d85a",
   "metadata": {},
   "outputs": [
    {
     "name": "stdout",
     "output_type": "stream",
     "text": [
      "name  :  Soumyajit Mandal\n",
      "age  :  21\n",
      "race  :  Indian\n",
      "status  :  God\n"
     ]
    }
   ],
   "source": [
    "# loop thorug keys and values at the same time \n",
    "# with (key,value) we are unpacking them in real time\n",
    "for key,value in person.items():\n",
    "        print(key,\" : \",value)"
   ]
  },
  {
   "cell_type": "markdown",
   "id": "e4ce63bb",
   "metadata": {},
   "source": [
    "list comprehension "
   ]
  },
  {
   "cell_type": "code",
   "execution_count": 25,
   "id": "6f4680c8",
   "metadata": {},
   "outputs": [
    {
     "data": {
      "text/plain": [
       "['Somo', 'Momo', 'God', 'Beelzebub']"
      ]
     },
     "execution_count": 25,
     "metadata": {},
     "output_type": "execute_result"
    }
   ],
   "source": [
    "names=['somo','momo','god',\"beelzebub\"]\n",
    "new_person=[name.title()for name in names]\n",
    "new_person"
   ]
  },
  {
   "cell_type": "code",
   "execution_count": 26,
   "id": "17620efb",
   "metadata": {},
   "outputs": [
    {
     "data": {
      "text/plain": [
       "['somo', 'momo', 'god', 'beelzebub']"
      ]
     },
     "execution_count": 26,
     "metadata": {},
     "output_type": "execute_result"
    }
   ],
   "source": [
    "names"
   ]
  },
  {
   "cell_type": "markdown",
   "id": "d0a00adb",
   "metadata": {},
   "source": [
    "# Functions"
   ]
  },
  {
   "cell_type": "markdown",
   "id": "464fea50",
   "metadata": {},
   "source": [
    "#### purpose : reuse code multiple times "
   ]
  },
  {
   "cell_type": "code",
   "execution_count": 33,
   "id": "f7043798",
   "metadata": {},
   "outputs": [],
   "source": [
    "def welcome(name):\n",
    "        print(\"Hello\",name)"
   ]
  },
  {
   "cell_type": "code",
   "execution_count": 34,
   "id": "5b10eaea",
   "metadata": {},
   "outputs": [
    {
     "name": "stdout",
     "output_type": "stream",
     "text": [
      "Hello Momo\n"
     ]
    }
   ],
   "source": [
    "welcome('Momo')"
   ]
  },
  {
   "cell_type": "code",
   "execution_count": 37,
   "id": "e8a395f8",
   "metadata": {},
   "outputs": [],
   "source": [
    "def add_func(a,b):\n",
    "    return int(a)+int(b)"
   ]
  },
  {
   "cell_type": "code",
   "execution_count": 38,
   "id": "d8451f33",
   "metadata": {},
   "outputs": [
    {
     "name": "stdout",
     "output_type": "stream",
     "text": [
      "Enter first number: 2\n",
      "Enter Second number: 3\n",
      "The addition is  5\n"
     ]
    }
   ],
   "source": [
    "num1=input(\"Enter first number: \")\n",
    "num2=input(\"Enter Second number: \")\n",
    "print(\"The addition is \",add_func(num1,num2))"
   ]
  },
  {
   "cell_type": "code",
   "execution_count": 39,
   "id": "def2986d",
   "metadata": {},
   "outputs": [],
   "source": [
    "names=['Somo','Momo','Papa','God','Beelzebub']"
   ]
  },
  {
   "cell_type": "code",
   "execution_count": 41,
   "id": "8eb12e6c",
   "metadata": {},
   "outputs": [],
   "source": [
    "def custom_welcome(name):\n",
    "    print('Welocme {}'.format(name))"
   ]
  },
  {
   "cell_type": "code",
   "execution_count": 44,
   "id": "b60a1c5a",
   "metadata": {},
   "outputs": [
    {
     "name": "stdout",
     "output_type": "stream",
     "text": [
      "Who are you ? \n",
      "Soumyajit\n",
      "Welocme Soumyajit\n"
     ]
    }
   ],
   "source": [
    "person=input(\"Who are you ? \\n\")\n",
    "custom_welcome(person)"
   ]
  },
  {
   "cell_type": "code",
   "execution_count": 45,
   "id": "d140f09d",
   "metadata": {},
   "outputs": [
    {
     "name": "stdout",
     "output_type": "stream",
     "text": [
      "Welocme Somo\n",
      "Welocme Momo\n",
      "Welocme Papa\n",
      "Welocme God\n",
      "Welocme Beelzebub\n"
     ]
    }
   ],
   "source": [
    "for name in names:\n",
    "    custom_welcome(name)"
   ]
  },
  {
   "cell_type": "code",
   "execution_count": 46,
   "id": "0f0cbbd4",
   "metadata": {},
   "outputs": [],
   "source": [
    "def name(f_name,m_name,l_name):\n",
    "    print(\"Hello {} , your title is {} and middle name is {}\".format(f_name,l_name,m_name))"
   ]
  },
  {
   "cell_type": "code",
   "execution_count": 47,
   "id": "7e9fb199",
   "metadata": {},
   "outputs": [
    {
     "name": "stdout",
     "output_type": "stream",
     "text": [
      "Enter first nameSomo\n",
      "Enter middle nameGod \n",
      "Enter last nameMomo\n",
      "Hello Somo , your title is Momo and middle name is God \n"
     ]
    }
   ],
   "source": [
    "f_name=input(\"Enter first name\")\n",
    "m_name=input(\"Enter middle name\")\n",
    "l_name=input(\"Enter last name\")\n",
    "name(f_name,m_name,l_name)"
   ]
  },
  {
   "cell_type": "code",
   "execution_count": 55,
   "id": "2e0d2759",
   "metadata": {},
   "outputs": [],
   "source": [
    "names=['Somo','Momo','Papa','God','Beelzebub']\n",
    "title=['Hero','Supporter','NPC','Game Master','Villain']"
   ]
  },
  {
   "cell_type": "code",
   "execution_count": 56,
   "id": "b2158320",
   "metadata": {},
   "outputs": [
    {
     "data": {
      "text/plain": [
       "['Hero', 'Supporter', 'NPC', 'Game Master', 'Villain']"
      ]
     },
     "execution_count": 56,
     "metadata": {},
     "output_type": "execute_result"
    }
   ],
   "source": [
    "title"
   ]
  },
  {
   "cell_type": "code",
   "execution_count": 64,
   "id": "a6e1efcb",
   "metadata": {},
   "outputs": [
    {
     "name": "stdout",
     "output_type": "stream",
     "text": [
      "Welocme Somo\n",
      "0 None  title  Hero\n",
      "Welocme Momo\n",
      "1 None  title  Supporter\n",
      "Welocme Papa\n",
      "2 None  title  NPC\n",
      "Welocme God\n",
      "3 None  title  Game Master\n",
      "Welocme Beelzebub\n",
      "4 None  title  Villain\n"
     ]
    }
   ],
   "source": [
    "# loop 2 list together\n",
    "for i,name in enumerate(names):\n",
    "    print(i,custom_welcome(name),' title ',title[i])\n",
    "    "
   ]
  },
  {
   "cell_type": "code",
   "execution_count": 5,
   "id": "db81b123",
   "metadata": {},
   "outputs": [
    {
     "name": "stdout",
     "output_type": "stream",
     "text": [
      "none\n",
      "Momo\n"
     ]
    }
   ],
   "source": [
    "# default values\n",
    "def names(name='none'):\n",
    "    print(name)\n",
    "    \n",
    "names()\n",
    "names('Momo')\n",
    "    "
   ]
  },
  {
   "cell_type": "markdown",
   "id": "ddf54eb8",
   "metadata": {},
   "source": [
    "lmabda"
   ]
  },
  {
   "cell_type": "code",
   "execution_count": 7,
   "id": "b32719dc",
   "metadata": {},
   "outputs": [
    {
     "data": {
      "text/plain": [
       "15.700000000000001"
      ]
     },
     "execution_count": 7,
     "metadata": {},
     "output_type": "execute_result"
    }
   ],
   "source": [
    "pi=lambda x: x*3.14\n",
    "pi(5)"
   ]
  },
  {
   "cell_type": "markdown",
   "id": "3fe73171",
   "metadata": {},
   "source": [
    "## Classes"
   ]
  },
  {
   "cell_type": "code",
   "execution_count": 19,
   "id": "bcb96df0",
   "metadata": {},
   "outputs": [],
   "source": [
    "# a boilerplate for objects\n",
    "class Person():\n",
    "#   the methods that run as soon as we come to class\n",
    "    def __init__(self,name,age,race):\n",
    "        self.name=name\n",
    "        self.age=age\n",
    "        self.race=race \n",
    "    def year_of_birth(self):\n",
    "        return 2023-self.age\n",
    "    def project_age(self,year=5):\n",
    "        return self.age+year"
   ]
  },
  {
   "cell_type": "code",
   "execution_count": 21,
   "id": "2b77f953",
   "metadata": {},
   "outputs": [],
   "source": [
    "somo=Person('Somo',21,'Indian')"
   ]
  },
  {
   "cell_type": "code",
   "execution_count": 11,
   "id": "26387823",
   "metadata": {},
   "outputs": [
    {
     "data": {
      "text/plain": [
       "21"
      ]
     },
     "execution_count": 11,
     "metadata": {},
     "output_type": "execute_result"
    }
   ],
   "source": [
    "somo.age"
   ]
  },
  {
   "cell_type": "code",
   "execution_count": 12,
   "id": "38a3ba9b",
   "metadata": {},
   "outputs": [
    {
     "data": {
      "text/plain": [
       "2002"
      ]
     },
     "execution_count": 12,
     "metadata": {},
     "output_type": "execute_result"
    }
   ],
   "source": [
    "somo.year_of_birth()"
   ]
  },
  {
   "cell_type": "code",
   "execution_count": 25,
   "id": "8f6d30c6",
   "metadata": {},
   "outputs": [
    {
     "data": {
      "text/plain": [
       "31"
      ]
     },
     "execution_count": 25,
     "metadata": {},
     "output_type": "execute_result"
    }
   ],
   "source": [
    "# in (x) years I will be ...\n",
    "somo.project_age(10)"
   ]
  },
  {
   "cell_type": "code",
   "execution_count": 27,
   "id": "c78daa9b",
   "metadata": {},
   "outputs": [
    {
     "data": {
      "text/plain": [
       "31"
      ]
     },
     "execution_count": 27,
     "metadata": {},
     "output_type": "execute_result"
    }
   ],
   "source": [
    "# This works too\n",
    "somo.project_age(year=10)"
   ]
  },
  {
   "cell_type": "markdown",
   "id": "37ff03a4",
   "metadata": {},
   "source": [
    "### inheritance \n",
    "- Parent passes to child that inhherits the parent class's methods and attributes "
   ]
  },
  {
   "cell_type": "code",
   "execution_count": 62,
   "id": "4d8edfeb",
   "metadata": {},
   "outputs": [],
   "source": [
    "# child class = lads\n",
    "class Lads(Person):\n",
    "    def __init__(self,name,age,race,lifespan_in_years):\n",
    "#         super gives us access the papa class\n",
    "        super().__init__(name,age,race)\n",
    "        self.lifespan_in_years=lifespan_in_years\n",
    "#     Also we can use new methods\n",
    "    def age_left(self):\n",
    "        return self.project_age(self.lifespan_in_years-self.age)"
   ]
  },
  {
   "cell_type": "code",
   "execution_count": 63,
   "id": "19740c44",
   "metadata": {},
   "outputs": [],
   "source": [
    "momo=Lads('Momo',45,'Indian',70)"
   ]
  },
  {
   "cell_type": "code",
   "execution_count": 64,
   "id": "fdea6d93",
   "metadata": {},
   "outputs": [
    {
     "data": {
      "text/plain": [
       "70"
      ]
     },
     "execution_count": 64,
     "metadata": {},
     "output_type": "execute_result"
    }
   ],
   "source": [
    "momo.age\n",
    "momo.lifespan_in_years\n",
    "momo.year_of_birth()\n",
    "momo.age_left()"
   ]
  },
  {
   "cell_type": "markdown",
   "id": "32b39811",
   "metadata": {},
   "source": [
    "## Modules"
   ]
  },
  {
   "cell_type": "code",
   "execution_count": 1,
   "id": "36243774",
   "metadata": {},
   "outputs": [],
   "source": [
    "# reuse code from other files "
   ]
  },
  {
   "cell_type": "code",
   "execution_count": null,
   "id": "36324f6d",
   "metadata": {},
   "outputs": [],
   "source": [
    "from helpers import secret_code"
   ]
  },
  {
   "cell_type": "markdown",
   "id": "4580cb3e",
   "metadata": {},
   "source": [
    "#### Woring with packages"
   ]
  },
  {
   "cell_type": "code",
   "execution_count": 5,
   "id": "8768c63e",
   "metadata": {},
   "outputs": [
    {
     "name": "stdout",
     "output_type": "stream",
     "text": [
      "Requirement already satisfied: requests in c:\\users\\soumyajit mondal\\appdata\\local\\programs\\python\\python311\\lib\\site-packages (2.28.1)\n",
      "Requirement already satisfied: charset-normalizer<3,>=2 in c:\\users\\soumyajit mondal\\appdata\\local\\programs\\python\\python311\\lib\\site-packages (from requests) (2.1.1)\n",
      "Requirement already satisfied: idna<4,>=2.5 in c:\\users\\soumyajit mondal\\appdata\\local\\programs\\python\\python311\\lib\\site-packages (from requests) (3.4)\n",
      "Requirement already satisfied: urllib3<1.27,>=1.21.1 in c:\\users\\soumyajit mondal\\appdata\\local\\programs\\python\\python311\\lib\\site-packages (from requests) (1.26.13)\n",
      "Requirement already satisfied: certifi>=2017.4.17 in c:\\users\\soumyajit mondal\\appdata\\local\\programs\\python\\python311\\lib\\site-packages (from requests) (2022.12.7)\n"
     ]
    }
   ],
   "source": [
    "!pip install requests"
   ]
  },
  {
   "cell_type": "code",
   "execution_count": 4,
   "id": "72d94cab",
   "metadata": {
    "collapsed": true
   },
   "outputs": [
    {
     "name": "stdout",
     "output_type": "stream",
     "text": [
      "Package                  Version\n",
      "------------------------ ------------\n",
      "aiofiles                 22.1.0\n",
      "aiosqlite                0.18.0\n",
      "anyio                    3.6.2\n",
      "argon2-cffi              21.3.0\n",
      "argon2-cffi-bindings     21.2.0\n",
      "arrow                    1.2.3\n",
      "asgiref                  3.6.0\n",
      "asttokens                2.2.1\n",
      "attrs                    22.2.0\n",
      "Babel                    2.12.1\n",
      "backcall                 0.2.0\n",
      "beautifulsoup4           4.11.2\n",
      "bidict                   0.22.1\n",
      "bleach                   6.0.0\n",
      "certifi                  2022.12.7\n",
      "cffi                     1.15.1\n",
      "charset-normalizer       2.1.1\n",
      "click                    8.1.3\n",
      "colorama                 0.4.6\n",
      "comm                     0.1.2\n",
      "debugpy                  1.6.6\n",
      "decorator                5.1.1\n",
      "defusedxml               0.7.1\n",
      "distlib                  0.3.6\n",
      "Django                   4.1.7\n",
      "et-xmlfile               1.1.0\n",
      "executing                1.2.0\n",
      "fastjsonschema           2.16.3\n",
      "filelock                 3.10.0\n",
      "Flask                    2.2.3\n",
      "Flask-SocketIO           5.3.2\n",
      "fqdn                     1.5.1\n",
      "idna                     3.4\n",
      "ipykernel                6.21.2\n",
      "ipython                  8.11.0\n",
      "ipython-genutils         0.2.0\n",
      "isoduration              20.11.0\n",
      "itsdangerous             2.1.2\n",
      "jedi                     0.18.2\n",
      "Jinja2                   3.1.2\n",
      "json5                    0.9.11\n",
      "jsonpointer              2.3\n",
      "jsonschema               4.17.3\n",
      "jupyter_client           8.0.3\n",
      "jupyter_core             5.2.0\n",
      "jupyter-events           0.6.3\n",
      "jupyter_server           2.3.0\n",
      "jupyter_server_fileid    0.8.0\n",
      "jupyter_server_terminals 0.4.4\n",
      "jupyter_server_ydoc      0.6.1\n",
      "jupyter-ydoc             0.2.2\n",
      "jupyterlab               3.6.1\n",
      "jupyterlab-pygments      0.2.2\n",
      "jupyterlab_server        2.19.0\n",
      "MarkupSafe               2.1.2\n",
      "matplotlib-inline        0.1.6\n",
      "mistune                  2.0.5\n",
      "mysql-connector          2.2.9\n",
      "mysql-connector-python   8.0.32\n",
      "nbclassic                0.5.2\n",
      "nbclient                 0.7.2\n",
      "nbconvert                7.2.9\n",
      "nbformat                 5.7.3\n",
      "nest-asyncio             1.5.6\n",
      "notebook                 6.5.2\n",
      "notebook_shim            0.2.2\n",
      "numpy                    1.23.5\n",
      "openai                   0.25.0\n",
      "openpyxl                 3.0.10\n",
      "packaging                23.0\n",
      "pandas                   1.5.2\n",
      "pandas-stubs             1.5.2.221124\n",
      "pandocfilters            1.5.0\n",
      "parso                    0.8.3\n",
      "pickleshare              0.7.5\n",
      "Pillow                   9.4.0\n",
      "pip                      23.0.1\n",
      "platformdirs             3.0.0\n",
      "playsound                1.3.0\n",
      "prometheus-client        0.16.0\n",
      "prompt-toolkit           3.0.38\n",
      "protobuf                 3.20.3\n",
      "psutil                   5.9.4\n",
      "pure-eval                0.2.2\n",
      "pycparser                2.21\n",
      "Pygments                 2.14.0\n",
      "pyrsistent               0.19.3\n",
      "python-dateutil          2.8.2\n",
      "python-engineio          4.3.4\n",
      "python-json-logger       2.0.7\n",
      "python-socketio          5.7.2\n",
      "pytz                     2022.6\n",
      "pywin32                  305\n",
      "pywinpty                 2.0.10\n",
      "PyYAML                   6.0\n",
      "pyzmq                    25.0.0\n",
      "requests                 2.28.1\n",
      "rfc3339-validator        0.1.4\n",
      "rfc3986-validator        0.1.1\n",
      "Send2Trash               1.8.0\n",
      "setuptools               65.5.0\n",
      "six                      1.16.0\n",
      "sniffio                  1.3.0\n",
      "soupsieve                2.4\n",
      "sqlparse                 0.4.3\n",
      "srt                      3.5.2\n",
      "stack-data               0.6.2\n",
      "terminado                0.17.1\n",
      "tinycss2                 1.2.1\n",
      "tornado                  6.2\n",
      "tqdm                     4.64.1\n",
      "traitlets                5.9.0\n",
      "types-pytz               2022.6.0.1\n",
      "typing_extensions        4.4.0\n",
      "tzdata                   2022.7\n",
      "uri-template             1.2.0\n",
      "urllib3                  1.26.13\n",
      "virtualenv               20.21.0\n",
      "vosk                     0.3.45\n",
      "wcwidth                  0.2.6\n",
      "webcolors                1.12\n",
      "webencodings             0.5.1\n",
      "websocket-client         1.5.1\n",
      "websockets               10.4\n",
      "Werkzeug                 2.2.3\n",
      "y-py                     0.5.9\n",
      "ypy-websocket            0.8.2\n"
     ]
    }
   ],
   "source": [
    "!pip list"
   ]
  },
  {
   "cell_type": "code",
   "execution_count": 6,
   "id": "113b7a17",
   "metadata": {},
   "outputs": [],
   "source": [
    "import requests"
   ]
  },
  {
   "cell_type": "code",
   "execution_count": 7,
   "id": "2d7e5bc8",
   "metadata": {},
   "outputs": [],
   "source": [
    "requests.get??"
   ]
  },
  {
   "cell_type": "markdown",
   "id": "ed6f0ee0",
   "metadata": {},
   "source": [
    "#### Dad jokes"
   ]
  },
  {
   "cell_type": "code",
   "execution_count": 8,
   "id": "fd426edc",
   "metadata": {},
   "outputs": [],
   "source": [
    "joke_url=\"https://icanhazdadjoke.com\"\n",
    "\n",
    "# iss_url=\"https://api.wheretheiss.at/v1/25544\"\n",
    "# iss_url=\"http://api.open-notify.org/iss-now.json\""
   ]
  },
  {
   "cell_type": "code",
   "execution_count": 8,
   "id": "bf4b8f51",
   "metadata": {},
   "outputs": [
    {
     "data": {
      "text/plain": [
       "'https://icanhazdadjoke.com'"
      ]
     },
     "execution_count": 8,
     "metadata": {},
     "output_type": "execute_result"
    }
   ],
   "source": [
    "joke_url"
   ]
  },
  {
   "cell_type": "code",
   "execution_count": 9,
   "id": "9e28d73c",
   "metadata": {},
   "outputs": [],
   "source": [
    "# set up a header,header is like metadata for our requests \n",
    "my_header={\n",
    "    'Accept':'application/json'\n",
    "}\n",
    "# api call\n",
    "result = requests.get(joke_url,headers=my_header)"
   ]
  },
  {
   "cell_type": "code",
   "execution_count": 10,
   "id": "7a6ed48c",
   "metadata": {},
   "outputs": [
    {
     "data": {
      "text/plain": [
       "<Response [200]>"
      ]
     },
     "execution_count": 10,
     "metadata": {},
     "output_type": "execute_result"
    }
   ],
   "source": [
    "result\n",
    "# 200 is ok "
   ]
  },
  {
   "cell_type": "code",
   "execution_count": 10,
   "id": "21644015",
   "metadata": {},
   "outputs": [],
   "source": [
    "json_result=result.json()"
   ]
  },
  {
   "cell_type": "code",
   "execution_count": 11,
   "id": "fd8c4ee0",
   "metadata": {},
   "outputs": [
    {
     "data": {
      "text/plain": [
       "{'id': '0L6MexPukjb',\n",
       " 'joke': 'Dermatologists are always in a hurry. They spend all day making rash decisions. ',\n",
       " 'status': 200}"
      ]
     },
     "execution_count": 11,
     "metadata": {},
     "output_type": "execute_result"
    }
   ],
   "source": [
    "json_result"
   ]
  },
  {
   "cell_type": "code",
   "execution_count": 12,
   "id": "53b2cded",
   "metadata": {},
   "outputs": [
    {
     "data": {
      "text/plain": [
       "'Dermatologists are always in a hurry. They spend all day making rash decisions. '"
      ]
     },
     "execution_count": 12,
     "metadata": {},
     "output_type": "execute_result"
    }
   ],
   "source": [
    "json_result['joke']"
   ]
  },
  {
   "cell_type": "code",
   "execution_count": 34,
   "id": "1f5a34ec",
   "metadata": {},
   "outputs": [
    {
     "data": {
      "text/plain": [
       "<Response [404]>"
      ]
     },
     "execution_count": 34,
     "metadata": {},
     "output_type": "execute_result"
    }
   ],
   "source": [
    "# for live iss location tracking \n",
    "iss_results=requests.get(iss_url,headers=my_header)\n",
    "iss_results"
   ]
  },
  {
   "cell_type": "markdown",
   "id": "2762ca64",
   "metadata": {},
   "source": [
    "#### File Handling"
   ]
  },
  {
   "cell_type": "code",
   "execution_count": 36,
   "id": "db17b97f",
   "metadata": {},
   "outputs": [],
   "source": [
    "# with closes automatically y\n",
    "# formats : r,w,rb,wb(read/write binary- rb and wb)\n",
    "with open('journal.txt','w') as f:\n",
    "    f.write(\"Hello my file\")\n",
    "#     new file created  with this written in it"
   ]
  },
  {
   "cell_type": "code",
   "execution_count": 38,
   "id": "989f40da",
   "metadata": {},
   "outputs": [
    {
     "name": "stdout",
     "output_type": "stream",
     "text": [
      "Hello my file\n"
     ]
    }
   ],
   "source": [
    "# read\n",
    "with open('journal.txt','r') as f:\n",
    "    file=f.read()\n",
    "    \n",
    "print(file)"
   ]
  },
  {
   "cell_type": "markdown",
   "id": "6dea5cba",
   "metadata": {},
   "source": [
    "### Error handling"
   ]
  },
  {
   "cell_type": "code",
   "execution_count": 40,
   "id": "775acc10",
   "metadata": {},
   "outputs": [],
   "source": [
    "new_set={1,2,3,4,5,6} #immutable"
   ]
  },
  {
   "cell_type": "code",
   "execution_count": 45,
   "id": "bf596d18",
   "metadata": {},
   "outputs": [
    {
     "name": "stdout",
     "output_type": "stream",
     "text": [
      "'set' object does not support item assignment\n"
     ]
    }
   ],
   "source": [
    "try :\n",
    "    new_set[0]=0\n",
    "except Exception as e:\n",
    "#     print (e)\n",
    "    print(\"Something went wrong with your request \\n \")"
   ]
  },
  {
   "cell_type": "code",
   "execution_count": null,
   "id": "72271b26",
   "metadata": {},
   "outputs": [],
   "source": []
  },
  {
   "cell_type": "code",
   "execution_count": null,
   "id": "333f7df7",
   "metadata": {},
   "outputs": [],
   "source": []
  },
  {
   "cell_type": "code",
   "execution_count": null,
   "id": "11fbd0e5",
   "metadata": {},
   "outputs": [],
   "source": []
  },
  {
   "cell_type": "code",
   "execution_count": null,
   "id": "721b9c75",
   "metadata": {},
   "outputs": [],
   "source": []
  },
  {
   "cell_type": "code",
   "execution_count": null,
   "id": "5bde4d0f",
   "metadata": {},
   "outputs": [],
   "source": []
  }
 ],
 "metadata": {
  "kernelspec": {
   "display_name": "Python 3 (ipykernel)",
   "language": "python",
   "name": "python3"
  },
  "language_info": {
   "codemirror_mode": {
    "name": "ipython",
    "version": 3
   },
   "file_extension": ".py",
   "mimetype": "text/x-python",
   "name": "python",
   "nbconvert_exporter": "python",
   "pygments_lexer": "ipython3",
   "version": "3.11.1"
  }
 },
 "nbformat": 4,
 "nbformat_minor": 5
}
